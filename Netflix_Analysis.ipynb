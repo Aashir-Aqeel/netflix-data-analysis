{
  "nbformat": 4,
  "nbformat_minor": 0,
  "metadata": {
    "colab": {
      "provenance": [],
      "authorship_tag": "ABX9TyN5gaVgfeyEZPI8RimkQ5H9",
      "include_colab_link": true
    },
    "kernelspec": {
      "name": "python3",
      "display_name": "Python 3"
    },
    "language_info": {
      "name": "python"
    }
  },
  "cells": [
    {
      "cell_type": "markdown",
      "metadata": {
        "id": "view-in-github",
        "colab_type": "text"
      },
      "source": [
        "<a href=\"https://colab.research.google.com/github/Aashir-Aqeel/netflix-data-analysis/blob/main/Netflix_Analysis.ipynb\" target=\"_parent\"><img src=\"https://colab.research.google.com/assets/colab-badge.svg\" alt=\"Open In Colab\"/></a>"
      ]
    },
    {
      "cell_type": "markdown",
      "source": [
        "# Install Dependencies"
      ],
      "metadata": {
        "id": "-un8RlvEKeix"
      }
    },
    {
      "cell_type": "code",
      "execution_count": null,
      "metadata": {
        "id": "IZs9ze5TDAof"
      },
      "outputs": [],
      "source": [
        "import pandas as pd\n",
        "import matplotlib.pyplot as plt\n",
        "\n",
        "# Make plts look better\n",
        "plt.style.use('ggplot')\n",
        "\n",
        "# load dataset\n",
        "df = pd.read_csv(\"/content/netflix_professional_dataset.csv\")\n",
        "\n",
        "print(\"Shape:\", df.shape)\n",
        "print(df.head())\n"
      ]
    },
    {
      "cell_type": "markdown",
      "source": [
        "# Data Cleaning"
      ],
      "metadata": {
        "id": "JUeWI9wkKr-Y"
      }
    },
    {
      "cell_type": "code",
      "source": [
        "# drop duplicates\n",
        "df = df.drop_duplicates()"
      ],
      "metadata": {
        "id": "pOtyhjgER-XM"
      },
      "execution_count": 2,
      "outputs": []
    },
    {
      "cell_type": "code",
      "source": [
        "# fill missing values\n",
        "df = df.fillna({\"Country\":\"Unknown\", \"Rating\":\"Unrated\"})"
      ],
      "metadata": {
        "id": "T8lzQbpzXcoy"
      },
      "execution_count": 3,
      "outputs": []
    },
    {
      "cell_type": "code",
      "source": [
        "# Convert duration (remove 'min')\n",
        "df['Duration'] = df['Duration'].str.replace(\" min\",\"\", regex=False).astype(int)"
      ],
      "metadata": {
        "id": "Aw0uEcVUXsJV"
      },
      "execution_count": 4,
      "outputs": []
    },
    {
      "cell_type": "markdown",
      "source": [
        "# Content Type Distribution"
      ],
      "metadata": {
        "id": "DRAdnD32K8Yd"
      }
    },
    {
      "cell_type": "code",
      "source": [
        "plt.figure(figsize=(6,5))\n",
        "df['Listed_In'].value_counts().plot(kind='bar', color=['steelblue','orange'])\n",
        "plt.title(\"Distribution of Content Categories\")\n",
        "plt.xlabel(\"Type\")\n",
        "plt.ylabel(\"Count\")\n",
        "plt.show()"
      ],
      "metadata": {
        "id": "zmSllf1UirK_"
      },
      "execution_count": null,
      "outputs": []
    },
    {
      "cell_type": "markdown",
      "source": [
        "# Country-wise Content\n",
        "\n"
      ],
      "metadata": {
        "id": "feFo7CVALBYi"
      }
    },
    {
      "cell_type": "code",
      "source": [
        "top_countries = df['Country'].value_counts().head(10)\n",
        "\n",
        "plt.figure(figsize = (10, 6))\n",
        "top_countries.plot(kind = 'bar', color = 'skyblue')\n",
        "plt.title(\"Top 10 Countries Producing Netflix Content\")\n",
        "plt.xlabel(\"Country\")\n",
        "plt.ylabel(\"Count\")\n",
        "plt.xticks(rotation = 45)\n",
        "plt.show()"
      ],
      "metadata": {
        "id": "7gAYKeRdIT3O"
      },
      "execution_count": null,
      "outputs": []
    },
    {
      "cell_type": "markdown",
      "source": [
        "# Rating Distribution (Pie Chart)\n"
      ],
      "metadata": {
        "id": "ZOdFr4kvLIkL"
      }
    },
    {
      "cell_type": "code",
      "source": [
        "plt.figure(figsize=(8,8))\n",
        "df['Rating'].value_counts().plot(kind='pie', autopct=\"%1.1f%%\", startangle=90)\n",
        "plt.title(\"Content Ratings Distribution\")\n",
        "plt.show()"
      ],
      "metadata": {
        "id": "FoDvHCjGH-ir"
      },
      "execution_count": null,
      "outputs": []
    },
    {
      "cell_type": "markdown",
      "source": [
        "# Movie Duration Distribution (Histogram)"
      ],
      "metadata": {
        "id": "UXkE7OlrLPZl"
      }
    },
    {
      "cell_type": "code",
      "source": [
        "movies_df = df[df[\"Categorye\"]==\"Movie\"]\n",
        "\n",
        "plt.figure(figsize=(10,6))\n",
        "plt.hist(movies_df['Duration'], bins=20, color='lightgreen', edgecolor=\"black\")\n",
        "plt.title(\"Distribution of Movie Durations\")\n",
        "plt.xlabel(\"Duration (Minutes)\")\n",
        "plt.ylabel(\"Frequency\")\n",
        "plt.show()"
      ],
      "metadata": {
        "id": "Qkyo79GfJS4Z"
      },
      "execution_count": null,
      "outputs": []
    },
    {
      "cell_type": "markdown",
      "source": [
        "# Scatter Plot (Release Year vs Duration)"
      ],
      "metadata": {
        "id": "dqqejcyHLW3C"
      }
    },
    {
      "cell_type": "code",
      "source": [
        "plt.figure(figsize=(10,6))\n",
        "plt.scatter(movies_df['Release_Year'], movies_df['Duration'], alpha=0.5, color=\"purple\")\n",
        "plt.title(\"Movie Duration vs Release Year\")\n",
        "plt.xlabel(\"Release Year\")\n",
        "plt.ylabel(\"Duration (Minutes)\")\n",
        "plt.show()"
      ],
      "metadata": {
        "id": "UrT_nt_CJaNE"
      },
      "execution_count": null,
      "outputs": []
    },
    {
      "cell_type": "code",
      "source": [
        "print(\"\\nCorrelation between Release_Year and Duration:\")\n",
        "print(df[['Release_Year','Duration']].corr())"
      ],
      "metadata": {
        "id": "AR8e0Ltqk3Ff"
      },
      "execution_count": null,
      "outputs": []
    }
  ]
}